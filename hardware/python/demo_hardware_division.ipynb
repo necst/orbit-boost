{
 "cells": [
  {
   "cell_type": "code",
   "execution_count": 4,
   "id": "2992c90e",
   "metadata": {},
   "outputs": [],
   "source": [
    "import pynq\n",
    "from pynq import Overlay\n",
    "import numpy as np\n",
    "import struct\n",
    "\n",
    "def hardware_division(X, D, n):\n",
    "    if len(X) != n or len(D) != n:\n",
    "        raise ValueError(\"The length of both arrays must be equal to n\")\n",
    "    \n",
    "    padding = False\n",
    "    if n % 2 == 1:  # If the length of the arrays is odd, make them even\n",
    "        padding = True\n",
    "        n += 1\n",
    "        X.append(1.0)\n",
    "        D.append(1.0)\n",
    "\n",
    "    # Load the overlay\n",
    "    alveare = Overlay(\"./bitstream/doublerate.bit\")\n",
    "    ape = alveare.ldl_dsolve_0\n",
    "\n",
    "    # Allocate buffers\n",
    "    X_hw = pynq.allocate(n, np.float64)\n",
    "    D_hw = pynq.allocate(n, np.float64)\n",
    "    Xout_hw = pynq.allocate(n, np.uint64)\n",
    "\n",
    "    # Transfer data to the buffers\n",
    "    X_hw[:] = X\n",
    "    D_hw[:] = D\n",
    "\n",
    "    # Communicate the buffer addresses\n",
    "    ape.write(0x18, X_hw.physical_address)\n",
    "    ape.write(0x24, D_hw.physical_address)\n",
    "    ape.write(0x30, Xout_hw.physical_address)\n",
    "    ape.write(0x10, n)\n",
    "\n",
    "    # Start the hardware operation\n",
    "    ape.write(0x00, 0x01)\n",
    "    \n",
    "    # Polling until operation is complete\n",
    "    while ape.read(0x00) & 0x4 != 4:\n",
    "        pass\n",
    "    \n",
    "    # Read back the result\n",
    "    Xout_hw.sync_from_device()\n",
    "\n",
    "    # Convert the result from uint64 to double\n",
    "    Xfinal = []\n",
    "    if padding:\n",
    "        n -= 1\n",
    "\n",
    "    for i in range(n):\n",
    "        uint64_bytes = struct.pack('Q', Xout_hw[i])\n",
    "        double_value = struct.unpack('d', uint64_bytes)[0]\n",
    "        Xfinal.append(double_value)\n",
    "    \n",
    "    return Xfinal"
   ]
  },
  {
   "cell_type": "code",
   "execution_count": 5,
   "id": "767a68d8",
   "metadata": {},
   "outputs": [
    {
     "name": "stdout",
     "output_type": "stream",
     "text": [
      "Hardware division performed successfully.\n"
     ]
    }
   ],
   "source": [
    "\n",
    "# Example usage of the function\n",
    "if __name__ == \"__main__\":\n",
    "    # Define the arrays and the parameter n\n",
    "    n = 8\n",
    "    X = [1.0, 2.0, 3.0, 4.0, 5.0, 6.0, 7.0, 8.0]\n",
    "    D = [1.0, 2.0, 3.0, 4.0, 5.0, 6.0, 7.0, 8.0]\n",
    "\n",
    "    # Perform the division using hardware\n",
    "    result = hardware_division(X, D, n)\n",
    "    print(\"Hardware division performed successfully.\")"
   ]
  },
  {
   "cell_type": "code",
   "execution_count": 6,
   "id": "e8f0b732",
   "metadata": {},
   "outputs": [
    {
     "data": {
      "text/plain": [
       "[1.0, 1.0, 1.0, 1.0, 1.0, 1.0, 1.0, 1.0]"
      ]
     },
     "execution_count": 6,
     "metadata": {},
     "output_type": "execute_result"
    }
   ],
   "source": [
    "result"
   ]
  }
 ],
 "metadata": {
  "kernelspec": {
   "display_name": "Python 3 (ipykernel)",
   "language": "python",
   "name": "python3"
  },
  "language_info": {
   "codemirror_mode": {
    "name": "ipython",
    "version": 3
   },
   "file_extension": ".py",
   "mimetype": "text/x-python",
   "name": "python",
   "nbconvert_exporter": "python",
   "pygments_lexer": "ipython3",
   "version": "3.10.12"
  }
 },
 "nbformat": 4,
 "nbformat_minor": 5
}
