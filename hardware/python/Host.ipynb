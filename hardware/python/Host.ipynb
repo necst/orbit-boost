{
 "cells": [
  {
   "cell_type": "code",
   "execution_count": 16,
   "id": "6d30ee26-8813-4951-9bcc-05b9a2db1b8a",
   "metadata": {
    "extensions": {
     "jupyter_dashboards": {
      "activeView": "grid_default",
      "views": {
       "grid_default": {
        "col": null,
        "height": 2,
        "hidden": true,
        "locked": true,
        "row": null,
        "width": 2
       }
      }
     }
    }
   },
   "outputs": [],
   "source": [
    "import random\n",
    "import time\n",
    "import pynq\n",
    "from pynq import Overlay\n",
    "import numpy as np\n",
    "from pynq import Clocks\n",
    "from pynq import allocate\n",
    "import sys\n",
    "import struct\n",
    "\n",
    "def LDL_dsolve(n, X, D, Xout_sw):\n",
    "    for i in range(n):\n",
    "        Xout_sw[i] = X[i] / D[i]\n",
    "\n",
    "def generate_random_array(n, min_value, max_value):\n",
    "    return [random.uniform(min_value, max_value) for _ in range(n)]\n",
    "\n",
    "def round_array(arr, decimals):\n",
    "    return [round(num, decimals) for num in arr]"
   ]
  },
  {
   "cell_type": "code",
   "execution_count": null,
   "id": "9e3a35c1-cd7e-4c06-b970-4aa1fd063711",
   "metadata": {
    "extensions": {
     "jupyter_dashboards": {
      "activeView": "grid_default",
      "views": {
       "grid_default": {
        "col": null,
        "height": 2,
        "hidden": true,
        "locked": true,
        "row": null,
        "width": 2
       }
      }
     }
    }
   },
   "outputs": [
    {
     "name": "stdout",
     "output_type": "stream",
     "text": [
      "392.2728861\n"
     ]
    }
   ],
   "source": [
    "n = 10000\n",
    "\n",
    "X_sw = generate_random_array(n, 0.5, 500.0)\n",
    "\n",
    "X_sw = round_array(X_sw, 7)\n",
    "\n",
    "\n",
    "D_sw = generate_random_array(n, 0.5, 500.0)\n",
    "\n",
    "D_sw = round_array(D_sw, 7)\n",
    "\n",
    "Xout_sw = [0.0] * n"
   ]
  },
  {
   "cell_type": "code",
   "execution_count": 19,
   "id": "3c193463-108a-4761-b1f3-3abd0c0715b6",
   "metadata": {
    "extensions": {
     "jupyter_dashboards": {
      "activeView": "grid_default",
      "views": {
       "grid_default": {
        "col": null,
        "height": 2,
        "hidden": true,
        "locked": true,
        "row": null,
        "width": 2
       }
      }
     }
    }
   },
   "outputs": [
    {
     "name": "stdout",
     "output_type": "stream",
     "text": [
      "0.9289624691009521\n"
     ]
    }
   ],
   "source": [
    "start_time_sw = time.time()\n",
    "LDL_dsolve(n, X_sw, D_sw, Xout_sw)\n",
    "end_time_sw = time.time()\n",
    "software_time = end_time_sw - start_time_sw\n",
    "print(software_time) #software time measured"
   ]
  },
  {
   "cell_type": "code",
   "execution_count": 22,
   "id": "6da5818b-3636-4bae-b933-512b6ea895e1",
   "metadata": {
    "extensions": {
     "jupyter_dashboards": {
      "activeView": "grid_default",
      "views": {
       "grid_default": {
        "col": null,
        "height": 2,
        "hidden": true,
        "locked": true,
        "row": null,
        "width": 2
       }
      }
     }
    }
   },
   "outputs": [
    {
     "ename": "OSError",
     "evalue": "Bitstream file doublerate.bit does not exist.",
     "output_type": "error",
     "traceback": [
      "\u001b[0;31m---------------------------------------------------------------------------\u001b[0m",
      "\u001b[0;31mOSError\u001b[0m                                   Traceback (most recent call last)",
      "Input \u001b[0;32mIn [22]\u001b[0m, in \u001b[0;36m<cell line: 1>\u001b[0;34m()\u001b[0m\n\u001b[0;32m----> 1\u001b[0m alveare \u001b[38;5;241m=\u001b[39m \u001b[43mOverlay\u001b[49m\u001b[43m(\u001b[49m\u001b[38;5;124;43m\"\u001b[39;49m\u001b[38;5;124;43mdoublerate.bit\u001b[39;49m\u001b[38;5;124;43m\"\u001b[39;49m\u001b[43m)\u001b[49m\n\u001b[1;32m      2\u001b[0m \u001b[38;5;66;03m# alveare?\u001b[39;00m\n\u001b[1;32m      3\u001b[0m ape \u001b[38;5;241m=\u001b[39m alveare\u001b[38;5;241m.\u001b[39mldl_dsolve_0\n",
      "File \u001b[0;32m/usr/local/share/pynq-venv/lib/python3.10/site-packages/pynq/overlay.py:315\u001b[0m, in \u001b[0;36mOverlay.__init__\u001b[0;34m(self, bitfile_name, dtbo, download, ignore_version, device, gen_cache)\u001b[0m\n\u001b[1;32m    286\u001b[0m \u001b[38;5;28;01mdef\u001b[39;00m \u001b[38;5;21m__init__\u001b[39m(\n\u001b[1;32m    287\u001b[0m     \u001b[38;5;28mself\u001b[39m, bitfile_name, dtbo\u001b[38;5;241m=\u001b[39m\u001b[38;5;28;01mNone\u001b[39;00m, download\u001b[38;5;241m=\u001b[39m\u001b[38;5;28;01mTrue\u001b[39;00m, ignore_version\u001b[38;5;241m=\u001b[39m\u001b[38;5;28;01mFalse\u001b[39;00m, device\u001b[38;5;241m=\u001b[39m\u001b[38;5;28;01mNone\u001b[39;00m, gen_cache\u001b[38;5;241m=\u001b[39m\u001b[38;5;28;01mFalse\u001b[39;00m\n\u001b[1;32m    288\u001b[0m ):\n\u001b[1;32m    289\u001b[0m \u001b[38;5;250m    \u001b[39m\u001b[38;5;124;03m\"\"\"Return a new Overlay object.\u001b[39;00m\n\u001b[1;32m    290\u001b[0m \n\u001b[1;32m    291\u001b[0m \u001b[38;5;124;03m    An overlay instantiates a bitstream object as a member initially.\u001b[39;00m\n\u001b[0;32m   (...)\u001b[0m\n\u001b[1;32m    313\u001b[0m \n\u001b[1;32m    314\u001b[0m \u001b[38;5;124;03m    \"\"\"\u001b[39;00m\n\u001b[0;32m--> 315\u001b[0m     \u001b[38;5;28;43msuper\u001b[39;49m\u001b[43m(\u001b[49m\u001b[43m)\u001b[49m\u001b[38;5;241;43m.\u001b[39;49m\u001b[38;5;21;43m__init__\u001b[39;49m\u001b[43m(\u001b[49m\u001b[43mbitfile_name\u001b[49m\u001b[43m,\u001b[49m\u001b[43m \u001b[49m\u001b[43mdtbo\u001b[49m\u001b[43m,\u001b[49m\u001b[43m \u001b[49m\u001b[43mpartial\u001b[49m\u001b[38;5;241;43m=\u001b[39;49m\u001b[38;5;28;43;01mFalse\u001b[39;49;00m\u001b[43m,\u001b[49m\u001b[43m \u001b[49m\u001b[43mdevice\u001b[49m\u001b[38;5;241;43m=\u001b[39;49m\u001b[43mdevice\u001b[49m\u001b[43m)\u001b[49m\n\u001b[1;32m    317\u001b[0m     \u001b[38;5;28mself\u001b[39m\u001b[38;5;241m.\u001b[39m_register_drivers()\n\u001b[1;32m    319\u001b[0m     \u001b[38;5;28mself\u001b[39m\u001b[38;5;241m.\u001b[39mdevice\u001b[38;5;241m.\u001b[39mset_bitfile_name(\u001b[38;5;28mself\u001b[39m\u001b[38;5;241m.\u001b[39mbitfile_name)\n",
      "File \u001b[0;32m/usr/local/share/pynq-venv/lib/python3.10/site-packages/pynq/bitstream.py:118\u001b[0m, in \u001b[0;36mBitstream.__init__\u001b[0;34m(self, bitfile_name, dtbo, partial, device)\u001b[0m\n\u001b[1;32m    116\u001b[0m     \u001b[38;5;28mself\u001b[39m\u001b[38;5;241m.\u001b[39mbitfile_name \u001b[38;5;241m=\u001b[39m bitfile_overlay_abs_lst[\u001b[38;5;241m0\u001b[39m]\n\u001b[1;32m    117\u001b[0m \u001b[38;5;28;01melse\u001b[39;00m:\n\u001b[0;32m--> 118\u001b[0m     \u001b[38;5;28;01mraise\u001b[39;00m \u001b[38;5;167;01mIOError\u001b[39;00m(\u001b[38;5;124m\"\u001b[39m\u001b[38;5;124mBitstream file \u001b[39m\u001b[38;5;132;01m{}\u001b[39;00m\u001b[38;5;124m does not exist.\u001b[39m\u001b[38;5;124m\"\u001b[39m\u001b[38;5;241m.\u001b[39mformat(bitfile_name))\n\u001b[1;32m    120\u001b[0m \u001b[38;5;28;01mif\u001b[39;00m bitfile_abs \u001b[38;5;129;01mand\u001b[39;00m bitfile_overlay_abs_lst \u001b[38;5;129;01mor\u001b[39;00m \u001b[38;5;28mlen\u001b[39m(bitfile_overlay_abs_lst) \u001b[38;5;241m>\u001b[39m \u001b[38;5;241m1\u001b[39m:\n\u001b[1;32m    121\u001b[0m     msg \u001b[38;5;241m=\u001b[39m (\n\u001b[1;32m    122\u001b[0m         \u001b[38;5;124m\"\u001b[39m\u001b[38;5;124mThe provided name \u001b[39m\u001b[38;5;124m'\u001b[39m\u001b[38;5;132;01m{}\u001b[39;00m\u001b[38;5;124m'\u001b[39m\u001b[38;5;124m resulted in multiple possible \u001b[39m\u001b[38;5;124m\"\u001b[39m\n\u001b[1;32m    123\u001b[0m         \u001b[38;5;124m\"\u001b[39m\u001b[38;5;124mmatches:\u001b[39m\u001b[38;5;130;01m\\n\u001b[39;00m\u001b[38;5;124m - \u001b[39m\u001b[38;5;124m\"\u001b[39m\u001b[38;5;241m.\u001b[39mformat(bitfile_name)\n\u001b[1;32m    124\u001b[0m     )\n",
      "\u001b[0;31mOSError\u001b[0m: Bitstream file doublerate.bit does not exist."
     ]
    }
   ],
   "source": [
    "alveare = Overlay(\"doublerate.bit\")\n",
    "# alveare?\n",
    "ape = alveare.ldl_dsolve_0\n",
    "\n",
    "padding = False\n",
    "\n",
    "if(n % 2 == 1) #if the number of elements is odd, add one more element to make it even and set it to 1.0 later\n",
    "    n++\n",
    "    padding = True\n",
    "\n",
    "\n",
    "X_hw = pynq.allocate(n, np.float64)\n",
    "D_hw = pynq.allocate(n, np.float64)\n",
    "Xout_hw = pynq.allocate(n, np.uint64)\n",
    "\n",
    "X_hw[:] = X_sw\n",
    "D_hw[:] = D_sw\n",
    "\n",
    "X_hw[-1] = 1.0\n",
    "D_hw[-1] = 1.0\n",
    "\n",
    "#communicate the buffer address\n",
    "ape.register_map\n",
    "\n",
    "ape.write(0x18, X_hw.physical_address)\n",
    "ape.write(0x24, D_hw.physical_address)\n",
    "ape.write(0x30, Xout_hw.physical_address)\n",
    "ape.write(0x10, n)\n",
    "\n",
    "X_hw.physical_address\n",
    "\n",
    "# ape.read(0x10)\n",
    "# ape.read(0x18)\n",
    "# ape.read(0x24)\n",
    "# ape.read(0x30)"
   ]
  },
  {
   "cell_type": "code",
   "execution_count": 21,
   "id": "198e8de3-8c91-4ef3-a40d-384549e4eda8",
   "metadata": {
    "extensions": {
     "jupyter_dashboards": {
      "activeView": "grid_default",
      "views": {
       "grid_default": {
        "col": null,
        "height": 2,
        "hidden": true,
        "locked": true,
        "row": null,
        "width": 2
       }
      }
     }
    }
   },
   "outputs": [
    {
     "name": "stdout",
     "output_type": "stream",
     "text": [
      "0.009105682373046875\n"
     ]
    }
   ],
   "source": [
    "start_time_hw = time.time()\n",
    "#start\n",
    "ape.write(0x00, 0x01)\n",
    "#polling\n",
    "while ape.read(0x00) & 0x4 != 4:\n",
    "    pass\n",
    "#read back\n",
    "Xout_hw.sync_from_device()\n",
    "end_time_hw = time.time()\n",
    "hardware_time = end_time_hw - start_time_hw\n",
    "print(hardware_time) #hardware time measured\n",
    "\n",
    "# bin(struct.unpack('!i',struct.pack('!f',Xout_hw[1]))[0])"
   ]
  },
  {
   "cell_type": "code",
   "execution_count": null,
   "id": "6e717f4f",
   "metadata": {},
   "outputs": [],
   "source": [
    "if(hardware_time != 0) {\n",
    "    speedup = software_time/hardware_time\n",
    "}\n",
    "\n",
    "print(speedup)"
   ]
  },
  {
   "cell_type": "code",
   "execution_count": 14,
   "id": "8d4f408d-29c7-44bf-8beb-4ff6268d9b5b",
   "metadata": {},
   "outputs": [
    {
     "data": {
      "text/plain": [
       "[0.0, 2.208122721500743]"
      ]
     },
     "execution_count": 14,
     "metadata": {},
     "output_type": "execute_result"
    }
   ],
   "source": [
    "Xfinal = [0.0]\n",
    "if(padding):\n",
    "    n--\n",
    "for i in range(n):\n",
    "    uint64_bytes = struct.pack('Q', Xout_hw[i])\n",
    "    # Unpack bytes as double\n",
    "    double_value = struct.unpack('d', uint64_bytes)[0]\n",
    "    Xfinal.append(double_value)\n",
    "Xfinal"
   ]
  },
  {
   "cell_type": "code",
   "execution_count": 15,
   "id": "84533b54-b78b-41ee-9713-96f5adbbe05f",
   "metadata": {},
   "outputs": [
    {
     "data": {
      "text/plain": [
       "2.208122721500743"
      ]
     },
     "execution_count": 15,
     "metadata": {},
     "output_type": "execute_result"
    }
   ],
   "source": [
    "Xout_sw[0]"
   ]
  }
 ],
 "metadata": {
  "extensions": {
   "jupyter_dashboards": {
    "activeView": "grid_default",
    "version": 1,
    "views": {
     "grid_default": {
      "cellMargin": 2,
      "defaultCellHeight": 40,
      "maxColumns": 12,
      "name": "grid",
      "type": "grid"
     }
    }
   }
  },
  "kernelspec": {
   "display_name": "Python 3 (ipykernel)",
   "language": "python",
   "name": "python3"
  },
  "language_info": {
   "codemirror_mode": {
    "name": "ipython",
    "version": 3
   },
   "file_extension": ".py",
   "mimetype": "text/x-python",
   "name": "python",
   "nbconvert_exporter": "python",
   "pygments_lexer": "ipython3",
   "version": "3.10.12"
  }
 },
 "nbformat": 4,
 "nbformat_minor": 5
}
