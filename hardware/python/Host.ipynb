{
 "cells": [
  {
   "cell_type": "code",
   "execution_count": 30,
   "id": "6d30ee26-8813-4951-9bcc-05b9a2db1b8a",
   "metadata": {
    "extensions": {
     "jupyter_dashboards": {
      "activeView": "grid_default",
      "views": {
       "grid_default": {
        "col": null,
        "height": 2,
        "hidden": true,
        "locked": true,
        "row": null,
        "width": 2
       }
      }
     }
    }
   },
   "outputs": [],
   "source": [
    "import random\n",
    "import time\n",
    "import pynq\n",
    "from pynq import Overlay\n",
    "import numpy as np\n",
    "from pynq import Clocks\n",
    "from pynq import allocate\n",
    "import sys\n",
    "import struct\n",
    "import matplotlib.pyplot as plt\n",
    "\n",
    "#software function\n",
    "def LDL_dsolve(n, X, D, Xout_sw):\n",
    "    for i in range(n):\n",
    "        Xout_sw[i] = X[i] / D[i]\n",
    "\n",
    "def generate_random_array(n, min_value, max_value):\n",
    "    return [random.uniform(min_value, max_value) for _ in range(n)]\n",
    "\n",
    "def round_array(arr, decimals):\n",
    "    return [round(num, decimals) for num in arr]\n",
    "\n",
    "def measure_execution_time(func, *args):\n",
    "    start_time = time.time()\n",
    "    func(*args)\n",
    "    end_time = time.time()\n",
    "    return end_time - start_time\n",
    "\n",
    "def compare_arrays(arr1, arr2, tolerance=1e-7):\n",
    "    if len(arr1) != len(arr2):\n",
    "        return 0\n",
    "    \n",
    "    for a, b in zip(arr1, arr2):\n",
    "        if abs(a - b) > tolerance:\n",
    "            return 0\n",
    "    \n",
    "    return 1"
   ]
  },
  {
   "cell_type": "code",
   "execution_count": 31,
   "id": "9e3a35c1-cd7e-4c06-b970-4aa1fd063711",
   "metadata": {
    "extensions": {
     "jupyter_dashboards": {
      "activeView": "grid_default",
      "views": {
       "grid_default": {
        "col": null,
        "height": 2,
        "hidden": true,
        "locked": true,
        "row": null,
        "width": 2
       }
      }
     }
    }
   },
   "outputs": [],
   "source": [
    "padding = False\n",
    "n = 8\n",
    "# generate and round X and D\n",
    "X_sw = generate_random_array(n, 0.5, 500.0)\n",
    "X_sw = round_array(X_sw, 7)\n",
    "\n",
    "D_sw = generate_random_array(n, 0.5, 500.0)\n",
    "D_sw = round_array(D_sw, 7)\n",
    "\n",
    "Xout_sw = [0.0] * n"
   ]
  },
  {
   "cell_type": "code",
   "execution_count": 32,
   "id": "3c193463-108a-4761-b1f3-3abd0c0715b6",
   "metadata": {
    "extensions": {
     "jupyter_dashboards": {
      "activeView": "grid_default",
      "views": {
       "grid_default": {
        "col": null,
        "height": 2,
        "hidden": true,
        "locked": true,
        "row": null,
        "width": 2
       }
      }
     }
    }
   },
   "outputs": [
    {
     "name": "stdout",
     "output_type": "stream",
     "text": [
      "2.5272369384765625e-05\n"
     ]
    }
   ],
   "source": [
    "print(measure_execution_time(LDL_dsolve, n, X_sw, D_sw, Xout_sw)) #printing software execution time"
   ]
  },
  {
   "cell_type": "code",
   "execution_count": 33,
   "id": "6da5818b-3636-4bae-b933-512b6ea895e1",
   "metadata": {
    "extensions": {
     "jupyter_dashboards": {
      "activeView": "grid_default",
      "views": {
       "grid_default": {
        "col": null,
        "height": 2,
        "hidden": true,
        "locked": true,
        "row": null,
        "width": 2
       }
      }
     }
    }
   },
   "outputs": [],
   "source": [
    "alveare = Overlay(\"./bitstream/doublerate.bit\")\n",
    "# alveare?\n",
    "\n",
    "padding = False\n",
    "\n",
    "if(n%2 == 1): #if the length of the arrays is odd then we need to make them of an even length\n",
    "    padding = True\n",
    "    n += 1\n",
    "\n",
    "\n",
    "ape = alveare.ldl_dsolve_0\n",
    "\n",
    "X_hw = pynq.allocate(n, np.float64)\n",
    "D_hw = pynq.allocate(n, np.float64)\n",
    "Xout_hw = pynq.allocate(n, np.uint64)\n",
    "\n",
    "if(padding):\n",
    "    X_sw.append(1.0)\n",
    "    D_sw.append(1.0)\n",
    "X_hw[:] = X_sw\n",
    "D_hw[:] = D_sw\n",
    "\n",
    "\n",
    "\n",
    "\n",
    "#communicate the buffer address\n",
    "ape.register_map\n",
    "\n",
    "ape.write(0x18, X_hw.physical_address)\n",
    "ape.write(0x24, D_hw.physical_address)\n",
    "ape.write(0x30, Xout_hw.physical_address)\n",
    "ape.write(0x10, n)\n",
    "\n",
    "# ape.read(0x10)\n",
    "# ape.read(0x18)\n",
    "# ape.read(0x24)\n",
    "# ape.read(0x30)"
   ]
  },
  {
   "cell_type": "code",
   "execution_count": 34,
   "id": "198e8de3-8c91-4ef3-a40d-384549e4eda8",
   "metadata": {
    "extensions": {
     "jupyter_dashboards": {
      "activeView": "grid_default",
      "views": {
       "grid_default": {
        "col": null,
        "height": 2,
        "hidden": true,
        "locked": true,
        "row": null,
        "width": 2
       }
      }
     }
    }
   },
   "outputs": [
    {
     "name": "stdout",
     "output_type": "stream",
     "text": [
      "0.0020067691802978516\n"
     ]
    }
   ],
   "source": [
    "start_time_hw = time.time()\n",
    "#start\n",
    "ape.write(0x00, 0x01)\n",
    "#polling\n",
    "while ape.read(0x00) & 0x4 != 4:\n",
    "    pass\n",
    "#read back\n",
    "Xout_hw.sync_from_device()\n",
    "end_time_hw = time.time()\n",
    "print(end_time_hw - start_time_hw) #printing hardware execution time"
   ]
  },
  {
   "cell_type": "code",
   "execution_count": 35,
   "id": "8d4f408d-29c7-44bf-8beb-4ff6268d9b5b",
   "metadata": {},
   "outputs": [
    {
     "data": {
      "text/plain": [
       "[0.24957905108832443,\n",
       " 1.5230178748141003,\n",
       " 0.8981124305305785,\n",
       " 0.9160646179635212,\n",
       " 1.3506632732003265,\n",
       " 1.4434591281858162,\n",
       " 1.1821135725410672,\n",
       " 2.615789726083828]"
      ]
     },
     "execution_count": 35,
     "metadata": {},
     "output_type": "execute_result"
    }
   ],
   "source": [
    "Xfinal = []\n",
    "if(padding): #remove the final padding so that it is not printing the added element\n",
    "    n -= 1\n",
    "\n",
    "for i in range(n):\n",
    "    uint64_bytes = struct.pack('Q', Xout_hw[i])\n",
    "    # Unpack bytes as double\n",
    "    double_value = struct.unpack('d', uint64_bytes)[0]\n",
    "    Xfinal.append(double_value)\n",
    "Xfinal"
   ]
  },
  {
   "cell_type": "code",
   "execution_count": 36,
   "id": "bee7b15d",
   "metadata": {},
   "outputs": [
    {
     "name": "stdout",
     "output_type": "stream",
     "text": [
      "the two arrays are the same\n"
     ]
    }
   ],
   "source": [
    "if(compare_arrays(Xfinal, Xout_sw) == 1): \n",
    "    print(\"the two arrays are the same\")\n",
    "else:\n",
    "    print(\"the two arrays are different\")"
   ]
  }
 ],
 "metadata": {
  "extensions": {
   "jupyter_dashboards": {
    "activeView": "grid_default",
    "version": 1,
    "views": {
     "grid_default": {
      "cellMargin": 2,
      "defaultCellHeight": 40,
      "maxColumns": 12,
      "name": "grid",
      "type": "grid"
     }
    }
   }
  },
  "kernelspec": {
   "display_name": "Python 3 (ipykernel)",
   "language": "python",
   "name": "python3"
  },
  "language_info": {
   "codemirror_mode": {
    "name": "ipython",
    "version": 3
   },
   "file_extension": ".py",
   "mimetype": "text/x-python",
   "name": "python",
   "nbconvert_exporter": "python",
   "pygments_lexer": "ipython3",
   "version": "3.10.12"
  }
 },
 "nbformat": 4,
 "nbformat_minor": 5
}
